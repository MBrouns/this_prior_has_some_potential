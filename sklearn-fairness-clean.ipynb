{
 "cells": [
  {
   "cell_type": "code",
   "execution_count": 9,
   "metadata": {},
   "outputs": [],
   "source": [
    "# %pip install --upgrade scikit-learn scikit-lego pandas matplotlib"
   ]
  },
  {
   "cell_type": "code",
   "execution_count": 10,
   "metadata": {},
   "outputs": [],
   "source": [
    "import pandas as pd\n",
    "from sklego.datasets import load_arrests"
   ]
  },
  {
   "cell_type": "code",
   "execution_count": 11,
   "metadata": {},
   "outputs": [
    {
     "name": "stdout",
     "output_type": "stream",
     "text": [
      "|    | released   | colour   |   year | age   | sex   | employed   | citizen   |   checks |\n",
      "|---:|:-----------|:---------|-------:|:------|:------|:-----------|:----------|---------:|\n",
      "|  0 | Yes        | False    |   2002 | True  | False | Yes        | Yes       |        3 |\n",
      "|  1 | No         | True     |   1999 | True  | False | Yes        | Yes       |        3 |\n",
      "|  2 | Yes        | False    |   2000 | True  | False | Yes        | Yes       |        3 |\n",
      "|  3 | No         | True     |   2000 | False | False | Yes        | Yes       |        1 |\n",
      "|  4 | Yes        | True     |   1999 | False | True  | Yes        | Yes       |        1 |\n"
     ]
    }
   ],
   "source": [
    "df = load_arrests(give_pandas=True).assign(\n",
    "    colour=lambda d: d['colour'] == 'Black',\n",
    "    sex=lambda d: d['sex'] == 'Female',\n",
    "    age=lambda d: d['age'] < 25,\n",
    ")\n",
    "\n",
    "X, y = df.drop(columns='released'), df['released']\n",
    "y = (y == 'Yes').astype(int)\n",
    "print(df.head().to_markdown())"
   ]
  },
  {
   "cell_type": "code",
   "execution_count": 58,
   "metadata": {},
   "outputs": [
    {
     "data": {
      "text/html": [
       "<div>\n",
       "<style scoped>\n",
       "    .dataframe tbody tr th:only-of-type {\n",
       "        vertical-align: middle;\n",
       "    }\n",
       "\n",
       "    .dataframe tbody tr th {\n",
       "        vertical-align: top;\n",
       "    }\n",
       "\n",
       "    .dataframe thead th {\n",
       "        text-align: right;\n",
       "    }\n",
       "</style>\n",
       "<table border=\"1\" class=\"dataframe\">\n",
       "  <thead>\n",
       "    <tr style=\"text-align: right;\">\n",
       "      <th></th>\n",
       "      <th>year</th>\n",
       "      <th>checks</th>\n",
       "    </tr>\n",
       "  </thead>\n",
       "  <tbody>\n",
       "    <tr>\n",
       "      <th>0</th>\n",
       "      <td>2002</td>\n",
       "      <td>3</td>\n",
       "    </tr>\n",
       "    <tr>\n",
       "      <th>1</th>\n",
       "      <td>1999</td>\n",
       "      <td>3</td>\n",
       "    </tr>\n",
       "    <tr>\n",
       "      <th>2</th>\n",
       "      <td>2000</td>\n",
       "      <td>3</td>\n",
       "    </tr>\n",
       "    <tr>\n",
       "      <th>3</th>\n",
       "      <td>2000</td>\n",
       "      <td>1</td>\n",
       "    </tr>\n",
       "    <tr>\n",
       "      <th>4</th>\n",
       "      <td>1999</td>\n",
       "      <td>1</td>\n",
       "    </tr>\n",
       "    <tr>\n",
       "      <th>...</th>\n",
       "      <td>...</td>\n",
       "      <td>...</td>\n",
       "    </tr>\n",
       "    <tr>\n",
       "      <th>5221</th>\n",
       "      <td>2000</td>\n",
       "      <td>0</td>\n",
       "    </tr>\n",
       "    <tr>\n",
       "      <th>5222</th>\n",
       "      <td>2000</td>\n",
       "      <td>0</td>\n",
       "    </tr>\n",
       "    <tr>\n",
       "      <th>5223</th>\n",
       "      <td>1999</td>\n",
       "      <td>1</td>\n",
       "    </tr>\n",
       "    <tr>\n",
       "      <th>5224</th>\n",
       "      <td>1998</td>\n",
       "      <td>4</td>\n",
       "    </tr>\n",
       "    <tr>\n",
       "      <th>5225</th>\n",
       "      <td>1999</td>\n",
       "      <td>3</td>\n",
       "    </tr>\n",
       "  </tbody>\n",
       "</table>\n",
       "<p>5226 rows × 2 columns</p>\n",
       "</div>"
      ],
      "text/plain": [
       "      year  checks\n",
       "0     2002       3\n",
       "1     1999       3\n",
       "2     2000       3\n",
       "3     2000       1\n",
       "4     1999       1\n",
       "...    ...     ...\n",
       "5221  2000       0\n",
       "5222  2000       0\n",
       "5223  1999       1\n",
       "5224  1998       4\n",
       "5225  1999       3\n",
       "\n",
       "[5226 rows x 2 columns]"
      ]
     },
     "execution_count": 58,
     "metadata": {},
     "output_type": "execute_result"
    }
   ],
   "source": [
    "PandasTypeSelector('number').fit_transform(X, y)"
   ]
  },
  {
   "cell_type": "code",
   "execution_count": 40,
   "metadata": {},
   "outputs": [],
   "source": [
    "from sklearn.pipeline import make_pipeline, make_union\n",
    "from sklearn.preprocessing import OneHotEncoder, StandardScaler\n",
    "from sklego.metrics import equal_opportunity_score\n",
    "from sklego.preprocessing import PandasTypeSelector, ColumnDropper, ColumnSelector\n",
    "from sklearn.linear_model import LogisticRegression\n",
    "from sklearn.ensemble import RandomForestClassifier\n",
    "from sklego.linear_model import EqualOpportunityClassifier\n",
    "\n",
    "\n",
    "categorical_pipeline = make_pipeline(\n",
    "    PandasTypeSelector('object'),\n",
    "    OneHotEncoder(sparse=False, drop='first'),\n",
    ")\n",
    "numerical_pipeline = make_pipeline(\n",
    "    PandasTypeSelector('number'),\n",
    "    StandardScaler()\n",
    ")\n",
    "pipeline = make_pipeline(\n",
    "    ColumnDropper(['colour', 'age', 'sex']),\n",
    "    make_union(\n",
    "        categorical_pipeline,\n",
    "        numerical_pipeline,\n",
    "    ),\n",
    "    LogisticRegression(class_weight='balanced')\n",
    "    \n",
    ")\n",
    "\n",
    "eq_op_pipeline = make_pipeline(\n",
    "    make_union(\n",
    "        ColumnSelector(['colour', 'age', 'sex']),\n",
    "        categorical_pipeline,\n",
    "        numerical_pipeline,\n",
    "    ),\n",
    "    EqualOpportunityClassifier(covariance_threshold=0.9, positive_target=1, sensitive_cols=[0, 1, 2])\n",
    ")"
   ]
  },
  {
   "cell_type": "code",
   "execution_count": 41,
   "metadata": {},
   "outputs": [],
   "source": [
    "from sklearn.model_selection import cross_validate, StratifiedKFold, GridSearchCV\n",
    "from sklearn.metrics import precision_score, recall_score, make_scorer\n",
    "\n",
    "def do_gridsearch(pipe_model):\n",
    "    gs = GridSearchCV(\n",
    "        pipe_model, \n",
    "        param_grid={},\n",
    "        scoring = {\n",
    "            'eq_op_colour': equal_opportunity_score('colour', positive_target=1),\n",
    "            'eq_op_age': equal_opportunity_score('age', positive_target=1),\n",
    "            'eq_op_sex': equal_opportunity_score('sex', positive_target=1),\n",
    "            'precision': make_scorer(precision_score, pos_label=1),\n",
    "            'recall': make_scorer(recall_score, pos_label=1)\n",
    "        },\n",
    "        cv=StratifiedKFold(5),\n",
    "        refit='precision',\n",
    "        n_jobs=1\n",
    "    )\n",
    "\n",
    "    return gs.fit(X, y)"
   ]
  },
  {
   "cell_type": "code",
   "execution_count": 42,
   "metadata": {},
   "outputs": [],
   "source": [
    "standard_model = do_gridsearch(pipeline)\n",
    "fair_model = do_gridsearch(eq_op_pipeline)"
   ]
  },
  {
   "cell_type": "code",
   "execution_count": 53,
   "metadata": {},
   "outputs": [
    {
     "data": {
      "text/plain": [
       "(array([-1.06557607]),\n",
       " array([[ 0.79136998,  0.75373455, -0.01010115, -0.59511747]]))"
      ]
     },
     "execution_count": 53,
     "metadata": {},
     "output_type": "execute_result"
    }
   ],
   "source": [
    "standard_model.best_estimator_[-1].intercept_, standard_model.best_estimator_[-1].coef_"
   ]
  },
  {
   "cell_type": "code",
   "execution_count": 54,
   "metadata": {},
   "outputs": [
    {
     "data": {
      "text/plain": [
       "(array([[0.5833983]]),\n",
       " array([[ 0.77103632,  0.68263498, -0.01963918, -0.57983793]]))"
      ]
     },
     "execution_count": 54,
     "metadata": {},
     "output_type": "execute_result"
    }
   ],
   "source": [
    "fair_model.best_estimator_[-1].intercept_, fair_model.best_estimator_[-1].coef_"
   ]
  },
  {
   "cell_type": "code",
   "execution_count": 45,
   "metadata": {},
   "outputs": [
    {
     "data": {
      "text/html": [
       "<div>\n",
       "<style scoped>\n",
       "    .dataframe tbody tr th:only-of-type {\n",
       "        vertical-align: middle;\n",
       "    }\n",
       "\n",
       "    .dataframe tbody tr th {\n",
       "        vertical-align: top;\n",
       "    }\n",
       "\n",
       "    .dataframe thead th {\n",
       "        text-align: right;\n",
       "    }\n",
       "</style>\n",
       "<table border=\"1\" class=\"dataframe\">\n",
       "  <thead>\n",
       "    <tr style=\"text-align: right;\">\n",
       "      <th></th>\n",
       "      <th>mean_fit_time</th>\n",
       "      <th>mean_score_time</th>\n",
       "      <th>mean_test_eq_op_colour</th>\n",
       "      <th>mean_test_eq_op_age</th>\n",
       "      <th>mean_test_eq_op_sex</th>\n",
       "      <th>mean_test_precision</th>\n",
       "      <th>mean_test_recall</th>\n",
       "    </tr>\n",
       "  </thead>\n",
       "  <tbody>\n",
       "    <tr>\n",
       "      <th>0</th>\n",
       "      <td>0.038761</td>\n",
       "      <td>0.06161</td>\n",
       "      <td>0.698671</td>\n",
       "      <td>0.786174</td>\n",
       "      <td>0.830984</td>\n",
       "      <td>0.91879</td>\n",
       "      <td>0.634526</td>\n",
       "    </tr>\n",
       "  </tbody>\n",
       "</table>\n",
       "</div>"
      ],
      "text/plain": [
       "   mean_fit_time  mean_score_time  mean_test_eq_op_colour  \\\n",
       "0       0.038761          0.06161                0.698671   \n",
       "\n",
       "   mean_test_eq_op_age  mean_test_eq_op_sex  mean_test_precision  \\\n",
       "0             0.786174             0.830984              0.91879   \n",
       "\n",
       "   mean_test_recall  \n",
       "0          0.634526  "
      ]
     },
     "execution_count": 45,
     "metadata": {},
     "output_type": "execute_result"
    }
   ],
   "source": [
    "pd.DataFrame(standard_model.cv_results_).filter(like='mean_')"
   ]
  },
  {
   "cell_type": "code",
   "execution_count": 46,
   "metadata": {},
   "outputs": [
    {
     "data": {
      "text/html": [
       "<div>\n",
       "<style scoped>\n",
       "    .dataframe tbody tr th:only-of-type {\n",
       "        vertical-align: middle;\n",
       "    }\n",
       "\n",
       "    .dataframe tbody tr th {\n",
       "        vertical-align: top;\n",
       "    }\n",
       "\n",
       "    .dataframe thead th {\n",
       "        text-align: right;\n",
       "    }\n",
       "</style>\n",
       "<table border=\"1\" class=\"dataframe\">\n",
       "  <thead>\n",
       "    <tr style=\"text-align: right;\">\n",
       "      <th></th>\n",
       "      <th>mean_fit_time</th>\n",
       "      <th>mean_score_time</th>\n",
       "      <th>mean_test_eq_op_colour</th>\n",
       "      <th>mean_test_eq_op_age</th>\n",
       "      <th>mean_test_eq_op_sex</th>\n",
       "      <th>mean_test_precision</th>\n",
       "      <th>mean_test_recall</th>\n",
       "    </tr>\n",
       "  </thead>\n",
       "  <tbody>\n",
       "    <tr>\n",
       "      <th>0</th>\n",
       "      <td>0.636421</td>\n",
       "      <td>0.053975</td>\n",
       "      <td>0.974033</td>\n",
       "      <td>0.992975</td>\n",
       "      <td>0.989297</td>\n",
       "      <td>0.835393</td>\n",
       "      <td>0.989387</td>\n",
       "    </tr>\n",
       "  </tbody>\n",
       "</table>\n",
       "</div>"
      ],
      "text/plain": [
       "   mean_fit_time  mean_score_time  mean_test_eq_op_colour  \\\n",
       "0       0.636421         0.053975                0.974033   \n",
       "\n",
       "   mean_test_eq_op_age  mean_test_eq_op_sex  mean_test_precision  \\\n",
       "0             0.992975             0.989297             0.835393   \n",
       "\n",
       "   mean_test_recall  \n",
       "0          0.989387  "
      ]
     },
     "execution_count": 46,
     "metadata": {},
     "output_type": "execute_result"
    }
   ],
   "source": [
    "pd.DataFrame(fair_model.cv_results_).filter(like='mean_')"
   ]
  },
  {
   "cell_type": "code",
   "execution_count": null,
   "metadata": {},
   "outputs": [],
   "source": [
    "fitted_pipeline"
   ]
  },
  {
   "cell_type": "code",
   "execution_count": 65,
   "metadata": {},
   "outputs": [
    {
     "data": {
      "text/plain": [
       "0.9747416762342136"
      ]
     },
     "execution_count": 65,
     "metadata": {},
     "output_type": "execute_result"
    }
   ],
   "source": [
    "(fitted_pipeline.predict(X) == 'Yes').mean()"
   ]
  },
  {
   "cell_type": "code",
   "execution_count": 17,
   "metadata": {},
   "outputs": [
    {
     "data": {
      "text/html": [
       "<div>\n",
       "<style scoped>\n",
       "    .dataframe tbody tr th:only-of-type {\n",
       "        vertical-align: middle;\n",
       "    }\n",
       "\n",
       "    .dataframe tbody tr th {\n",
       "        vertical-align: top;\n",
       "    }\n",
       "\n",
       "    .dataframe thead th {\n",
       "        text-align: right;\n",
       "    }\n",
       "</style>\n",
       "<table border=\"1\" class=\"dataframe\">\n",
       "  <thead>\n",
       "    <tr style=\"text-align: right;\">\n",
       "      <th></th>\n",
       "      <th></th>\n",
       "      <th>year</th>\n",
       "      <th>age</th>\n",
       "      <th>sex</th>\n",
       "      <th>employed</th>\n",
       "      <th>citizen</th>\n",
       "      <th>checks</th>\n",
       "    </tr>\n",
       "    <tr>\n",
       "      <th>released</th>\n",
       "      <th>colour</th>\n",
       "      <th></th>\n",
       "      <th></th>\n",
       "      <th></th>\n",
       "      <th></th>\n",
       "      <th></th>\n",
       "      <th></th>\n",
       "    </tr>\n",
       "  </thead>\n",
       "  <tbody>\n",
       "    <tr>\n",
       "      <th rowspan=\"2\" valign=\"top\">No</th>\n",
       "      <th>False</th>\n",
       "      <td>559</td>\n",
       "      <td>559</td>\n",
       "      <td>559</td>\n",
       "      <td>559</td>\n",
       "      <td>559</td>\n",
       "      <td>559</td>\n",
       "    </tr>\n",
       "    <tr>\n",
       "      <th>True</th>\n",
       "      <td>333</td>\n",
       "      <td>333</td>\n",
       "      <td>333</td>\n",
       "      <td>333</td>\n",
       "      <td>333</td>\n",
       "      <td>333</td>\n",
       "    </tr>\n",
       "    <tr>\n",
       "      <th rowspan=\"2\" valign=\"top\">Yes</th>\n",
       "      <th>False</th>\n",
       "      <td>3379</td>\n",
       "      <td>3379</td>\n",
       "      <td>3379</td>\n",
       "      <td>3379</td>\n",
       "      <td>3379</td>\n",
       "      <td>3379</td>\n",
       "    </tr>\n",
       "    <tr>\n",
       "      <th>True</th>\n",
       "      <td>955</td>\n",
       "      <td>955</td>\n",
       "      <td>955</td>\n",
       "      <td>955</td>\n",
       "      <td>955</td>\n",
       "      <td>955</td>\n",
       "    </tr>\n",
       "  </tbody>\n",
       "</table>\n",
       "</div>"
      ],
      "text/plain": [
       "                 year   age   sex  employed  citizen  checks\n",
       "released colour                                             \n",
       "No       False    559   559   559       559      559     559\n",
       "         True     333   333   333       333      333     333\n",
       "Yes      False   3379  3379  3379      3379     3379    3379\n",
       "         True     955   955   955       955      955     955"
      ]
     },
     "execution_count": 17,
     "metadata": {},
     "output_type": "execute_result"
    }
   ],
   "source": [
    "df.groupby(['released', 'colour']).count()"
   ]
  },
  {
   "cell_type": "code",
   "execution_count": 18,
   "metadata": {},
   "outputs": [
    {
     "data": {
      "text/html": [
       "<div>\n",
       "<style scoped>\n",
       "    .dataframe tbody tr th:only-of-type {\n",
       "        vertical-align: middle;\n",
       "    }\n",
       "\n",
       "    .dataframe tbody tr th {\n",
       "        vertical-align: top;\n",
       "    }\n",
       "\n",
       "    .dataframe thead th {\n",
       "        text-align: right;\n",
       "    }\n",
       "</style>\n",
       "<table border=\"1\" class=\"dataframe\">\n",
       "  <thead>\n",
       "    <tr style=\"text-align: right;\">\n",
       "      <th></th>\n",
       "      <th></th>\n",
       "      <th>colour</th>\n",
       "      <th>year</th>\n",
       "      <th>age</th>\n",
       "      <th>employed</th>\n",
       "      <th>citizen</th>\n",
       "      <th>checks</th>\n",
       "    </tr>\n",
       "    <tr>\n",
       "      <th>released</th>\n",
       "      <th>sex</th>\n",
       "      <th></th>\n",
       "      <th></th>\n",
       "      <th></th>\n",
       "      <th></th>\n",
       "      <th></th>\n",
       "      <th></th>\n",
       "    </tr>\n",
       "  </thead>\n",
       "  <tbody>\n",
       "    <tr>\n",
       "      <th rowspan=\"2\" valign=\"top\">No</th>\n",
       "      <th>False</th>\n",
       "      <td>829</td>\n",
       "      <td>829</td>\n",
       "      <td>829</td>\n",
       "      <td>829</td>\n",
       "      <td>829</td>\n",
       "      <td>829</td>\n",
       "    </tr>\n",
       "    <tr>\n",
       "      <th>True</th>\n",
       "      <td>63</td>\n",
       "      <td>63</td>\n",
       "      <td>63</td>\n",
       "      <td>63</td>\n",
       "      <td>63</td>\n",
       "      <td>63</td>\n",
       "    </tr>\n",
       "    <tr>\n",
       "      <th rowspan=\"2\" valign=\"top\">Yes</th>\n",
       "      <th>False</th>\n",
       "      <td>3954</td>\n",
       "      <td>3954</td>\n",
       "      <td>3954</td>\n",
       "      <td>3954</td>\n",
       "      <td>3954</td>\n",
       "      <td>3954</td>\n",
       "    </tr>\n",
       "    <tr>\n",
       "      <th>True</th>\n",
       "      <td>380</td>\n",
       "      <td>380</td>\n",
       "      <td>380</td>\n",
       "      <td>380</td>\n",
       "      <td>380</td>\n",
       "      <td>380</td>\n",
       "    </tr>\n",
       "  </tbody>\n",
       "</table>\n",
       "</div>"
      ],
      "text/plain": [
       "                colour  year   age  employed  citizen  checks\n",
       "released sex                                                 \n",
       "No       False     829   829   829       829      829     829\n",
       "         True       63    63    63        63       63      63\n",
       "Yes      False    3954  3954  3954      3954     3954    3954\n",
       "         True      380   380   380       380      380     380"
      ]
     },
     "execution_count": 18,
     "metadata": {},
     "output_type": "execute_result"
    }
   ],
   "source": [
    "df.groupby(['released', 'sex']).count()"
   ]
  },
  {
   "cell_type": "code",
   "execution_count": 20,
   "metadata": {},
   "outputs": [
    {
     "data": {
      "text/plain": [
       "2000    1270\n",
       "2001    1211\n",
       "1999    1099\n",
       "1998     877\n",
       "1997     492\n",
       "2002     277\n",
       "Name: year, dtype: int64"
      ]
     },
     "execution_count": 20,
     "metadata": {},
     "output_type": "execute_result"
    }
   ],
   "source": [
    "df['year'].value_counts()"
   ]
  },
  {
   "cell_type": "code",
   "execution_count": 21,
   "metadata": {},
   "outputs": [
    {
     "data": {
      "text/plain": [
       "False    4783\n",
       "True      443\n",
       "Name: sex, dtype: int64"
      ]
     },
     "execution_count": 21,
     "metadata": {},
     "output_type": "execute_result"
    }
   ],
   "source": [
    "df['sex'].value_counts()"
   ]
  },
  {
   "cell_type": "code",
   "execution_count": 22,
   "metadata": {},
   "outputs": [
    {
     "data": {
      "text/plain": [
       "False    3938\n",
       "True     1288\n",
       "Name: colour, dtype: int64"
      ]
     },
     "execution_count": 22,
     "metadata": {},
     "output_type": "execute_result"
    }
   ],
   "source": [
    "df['colour'].value_counts()"
   ]
  },
  {
   "cell_type": "code",
   "execution_count": null,
   "metadata": {},
   "outputs": [],
   "source": []
  }
 ],
 "metadata": {
  "kernelspec": {
   "display_name": "Python 3",
   "language": "python",
   "name": "python3"
  },
  "language_info": {
   "codemirror_mode": {
    "name": "ipython",
    "version": 3
   },
   "file_extension": ".py",
   "mimetype": "text/x-python",
   "name": "python",
   "nbconvert_exporter": "python",
   "pygments_lexer": "ipython3",
   "version": "3.6.8"
  }
 },
 "nbformat": 4,
 "nbformat_minor": 4
}
